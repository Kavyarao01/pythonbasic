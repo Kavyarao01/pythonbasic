{
 "cells": [
  {
   "cell_type": "code",
   "execution_count": null,
   "id": "c5c40563",
   "metadata": {},
   "outputs": [],
   "source": [
    "print(\"Hello, World!\")"
   ]
  },
  {
   "cell_type": "code",
   "execution_count": null,
   "id": "d670c099",
   "metadata": {},
   "outputs": [],
   "source": [
    "#if else \n",
    "n = int(input(\"Enter the Number : \"))\n",
    "if n % 2 == 1:\n",
    "    print(\"Weird\")\n",
    "elif n % 2 == 0 and 2 <= n <= 5:\n",
    "    print(\"Not Weird\")\n",
    "elif n % 2 == 0 and 6 <= n <= 20:\n",
    "    print(\"Weird\")\n",
    "else:\n",
    "    print(\"Not Weird\")  "
   ]
  },
  {
   "cell_type": "code",
   "execution_count": 6,
   "id": "4834eb05",
   "metadata": {},
   "outputs": [
    {
     "name": "stdout",
     "output_type": "stream",
     "text": [
      "8\n",
      "-2\n",
      "15\n"
     ]
    }
   ],
   "source": [
    "#arithmetic\n",
    "a = 3\n",
    "b = 5\n",
    "print(a + b)\n",
    "\n",
    "print ( a - b)\n",
    "\n",
    "\n",
    "print(a*b)"
   ]
  },
  {
   "cell_type": "code",
   "execution_count": 7,
   "id": "77fd6b94",
   "metadata": {},
   "outputs": [
    {
     "name": "stdout",
     "output_type": "stream",
     "text": [
      "4\n",
      "5\n",
      "0\n",
      "0.8\n"
     ]
    }
   ],
   "source": [
    "#Division\n",
    "if __name__ == '__main__':\n",
    "    a = int(input())\n",
    "    b = int(input())\n",
    "    print( a // b)\n",
    "    print ( a / b)"
   ]
  },
  {
   "cell_type": "code",
   "execution_count": 18,
   "id": "ed2eb7f8",
   "metadata": {},
   "outputs": [
    {
     "name": "stdout",
     "output_type": "stream",
     "text": [
      "5\n",
      "0\n",
      "1\n",
      "4\n",
      "9\n",
      "16\n"
     ]
    }
   ],
   "source": [
    "#for loop square of number\n",
    "n = int(input())\n",
    "i=0\n",
    "for i in range(n):\n",
    "        print(i*i);"
   ]
  },
  {
   "cell_type": "code",
   "execution_count": null,
   "id": "5fe43a4c",
   "metadata": {},
   "outputs": [],
   "source": [
    "#using single if\n",
    "def is_leap(year):\n",
    "    \n",
    "    # variable to check the leap year\n",
    "    leap = False\n",
    "    \n",
    "    # One if statement that contains multiple conditions\n",
    "    if ((year % 400 == 0) and (year % 100 == 0)) | ((year % 4 ==0) and (year % 100 != 0)):\n",
    "        \n",
    "       # change leap to True\n",
    "        leap = True\n",
    "\n",
    "    \n",
    "    return leap"
   ]
  },
  {
   "cell_type": "code",
   "execution_count": 22,
   "id": "29e35aba",
   "metadata": {},
   "outputs": [
    {
     "name": "stdout",
     "output_type": "stream",
     "text": [
      "4\n",
      "1234"
     ]
    }
   ],
   "source": [
    "#print function\n",
    "if __name__ == '__main__':\n",
    "    n = int(input())\n",
    "    for i in range(1, n+1):\n",
    "        print(i, end=\"\")"
   ]
  },
  {
   "cell_type": "code",
   "execution_count": null,
   "id": "fefa20cc",
   "metadata": {},
   "outputs": [],
   "source": []
  }
 ],
 "metadata": {
  "kernelspec": {
   "display_name": "Python 3 (ipykernel)",
   "language": "python",
   "name": "python3"
  },
  "language_info": {
   "codemirror_mode": {
    "name": "ipython",
    "version": 3
   },
   "file_extension": ".py",
   "mimetype": "text/x-python",
   "name": "python",
   "nbconvert_exporter": "python",
   "pygments_lexer": "ipython3",
   "version": "3.9.12"
  }
 },
 "nbformat": 4,
 "nbformat_minor": 5
}
