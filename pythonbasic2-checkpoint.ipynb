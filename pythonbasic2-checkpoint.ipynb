{
 "cells": [
  {
   "cell_type": "code",
   "execution_count": null,
   "id": "b1b54719",
   "metadata": {},
   "outputs": [],
   "source": [
    "#cordinates\n",
    "if __name__ == '__main__':\n",
    "    x = int(input())\n",
    "    y = int(input())\n",
    "    z = int(input())\n",
    "    n = int(input())\n",
    "    res = [];\n",
    "    abc = [];\n",
    "    for X in range(x+1):\n",
    "        for Y in range(y+1):\n",
    "            for Z in range(z+1):\n",
    "                if X+Y+Z != n:\n",
    "                    abc = [X,Y,Z];\n",
    "                    res.append(abc);\n",
    "print(res);    \n",
    "\n"
   ]
  },
  {
   "cell_type": "code",
   "execution_count": null,
   "id": "568996ef",
   "metadata": {},
   "outputs": [],
   "source": [
    "#print runner up score\n",
    "if __name__ == '__main__':\n",
    "    n = int(input())\n",
    "    arr = map(int, input().split())\n",
    "    print(sorted(list(set(arr)))[-2])"
   ]
  },
  {
   "cell_type": "code",
   "execution_count": null,
   "id": "15bc9367",
   "metadata": {},
   "outputs": [],
   "source": [
    "#nested list\n",
    "Res =[]\n",
    "scorelist = []\n",
    "\n",
    "if __name__ == '__main__':\n",
    "    for _ in range(int(input())):\n",
    "        name = input()\n",
    "        score = float(input())\n",
    "    Res+=[[name,score]]\n",
    "        scorelist+=[score]\n",
    "b=sorted(list(set(scorelist)))[1] \n",
    "for a,c in sorted(Res):\n",
    " if c==b:\n",
    "print(a)"
   ]
  },
  {
   "cell_type": "code",
   "execution_count": null,
   "id": "3ac2f226",
   "metadata": {},
   "outputs": [],
   "source": [
    "#marks percentage\n",
    "if __name__ == '__main__':\n",
    "    n = int(input())\n",
    "    student_marks = {}\n",
    "    for _ in range(n):\n",
    "        name, *line = input().split()\n",
    "        scores = list(map(float, line))\n",
    "        student_marks[name] = scores\n",
    "    query_name = input()\n",
    "    marks = list(student_marks[query_name])    \n",
    "per = sum(marks)/len(marks);\n",
    "print(\"%.2f\" % per);"
   ]
  },
  {
   "cell_type": "code",
   "execution_count": null,
   "id": "e665a948",
   "metadata": {},
   "outputs": [],
   "source": [
    "#list insert,append\n",
    "if __name__ == '__main__':\n",
    "    N = int(input())\n",
    "L=[];\n",
    "for i in range(0,N):\n",
    "        cmd=input().split();\n",
    "        if cmd[0] == \"insert\":\n",
    "            L.insert(int(cmd[1]),int(cmd[2]))\n",
    "        elif cmd[0] == \"append\":\n",
    "            L.append(int(cmd[1]))\n",
    "        elif cmd[0] == \"pop\":\n",
    "            L.pop();\n",
    "        elif cmd[0] == \"print\":\n",
    "            print(L)\n",
    "        elif cmd[0] == \"remove\":\n",
    "            L.remove(int(cmd[1]))\n",
    "        elif cmd[0] == \"sort\":\n",
    "            L.sort();\n",
    "        else:\n",
    "            L.reverse();\n"
   ]
  },
  {
   "cell_type": "code",
   "execution_count": null,
   "id": "9f37968e",
   "metadata": {},
   "outputs": [],
   "source": [
    "#using pypy3 \n",
    "if __name__ == '__main__':\n",
    "    N = int(input())\n",
    "    n = map(int, input().split())\n",
    "t=tuple(n)\n",
    "print(hash(t))"
   ]
  },
  {
   "cell_type": "code",
   "execution_count": null,
   "id": "d6361339",
   "metadata": {},
   "outputs": [],
   "source": [
    "#sets\n",
    "def average(array):\n",
    "    array = set(array)\n",
    "    return sum(array) / len(array)\n",
    "\n",
    "\n",
    "if __name__ == '__main__':\n",
    "    n = int(input())\n",
    "    arr = list(map(int, input().split()))\n",
    "    result = average(arr)\n",
    "    print(result)"
   ]
  },
  {
   "cell_type": "code",
   "execution_count": null,
   "id": "5d9f005a",
   "metadata": {},
   "outputs": [],
   "source": [
    "#No idea\n",
    "if __name__ == \"__main__\":\n",
    "    happiness = 0\n",
    "    n, m = map(int, input().strip().split(' '))\n",
    "    arr = list(map(int, input().strip().split(' ')))\n",
    "    \n",
    "    good = set(map(int, input().strip().split(' ')))\n",
    "    bad = set(map(int, input().strip().split(' ')))\n",
    "    \n",
    "    for i in arr:\n",
    "        if i in good:\n",
    "            happiness += 1\n",
    "        elif i in bad:\n",
    "            happiness -= 1\n",
    "    print(happiness)"
   ]
  },
  {
   "cell_type": "code",
   "execution_count": null,
   "id": "2e9f3070",
   "metadata": {},
   "outputs": [],
   "source": [
    "#symmetric set\n",
    "if __name__ == \"__main__\":\n",
    "    \n",
    " M=int(input())\n",
    "a = set(map(int, input().strip().split(' ')))\n",
    "    \n",
    "N = int(input().strip())\n",
    "b = set(map(int, input().strip().split(' '))) \n",
    "\n",
    "\n",
    "for j in sorted(a ^ b):\n",
    "        print(j)"
   ]
  },
  {
   "cell_type": "code",
   "execution_count": null,
   "id": "49d77beb",
   "metadata": {},
   "outputs": [],
   "source": [
    "#stamp\n",
    "n = int(input())\n",
    "stamps = set()\n",
    "while n > 0:\n",
    "    stamps.add(input())\n",
    "    n -= 1\n",
    "print(len(stamps))"
   ]
  },
  {
   "cell_type": "code",
   "execution_count": null,
   "id": "54638ca5",
   "metadata": {},
   "outputs": [],
   "source": [
    "#remove discard set\n",
    "n = int(input())\n",
    "s = set(map(int, input().split()))\n",
    "\n",
    "for i in range(int(input())): \n",
    "    s1 = input().split()\n",
    "    if s1[0] == 'pop':\n",
    "        s.pop()\n",
    "    elif s1[0] == 'remove':\n",
    "        s.remove(int(s1[1]))\n",
    "    elif s1[0] == 'discard':\n",
    "        s.discard(int(s1[1]))\n",
    "print(sum(s))"
   ]
  },
  {
   "cell_type": "code",
   "execution_count": null,
   "id": "48e751dc",
   "metadata": {},
   "outputs": [],
   "source": [
    "#union\n",
    "n = int(input())\n",
    "n_set = set(map(int, input().split()))\n",
    "b = int(input())\n",
    "b_set = set(map(int, input().split()))\n",
    "print(len(n_set.union(b_set)))"
   ]
  },
  {
   "cell_type": "code",
   "execution_count": null,
   "id": "e2217a3c",
   "metadata": {},
   "outputs": [],
   "source": [
    "#intersection\n",
    "n = int(input())\n",
    "n_set = set(map(int, input().split()))\n",
    "b = int(input())\n",
    "b_set = set(map(int, input().split()))\n",
    "print(len(n_set.union(b_set)))"
   ]
  },
  {
   "cell_type": "code",
   "execution_count": null,
   "id": "b836f2f8",
   "metadata": {},
   "outputs": [],
   "source": [
    "#difference\n",
    "n = int(input())\n",
    "n_set = set(map(int, input().split()))\n",
    "b = int(input())\n",
    "b_set = set(map(int, input().split()))\n",
    "print(len(n_set.difference(b_set)))"
   ]
  },
  {
   "cell_type": "code",
   "execution_count": null,
   "id": "ddef9d8c",
   "metadata": {},
   "outputs": [],
   "source": [
    "#symmetric difference\n",
    "n = int(input())\n",
    "n_set = set(map(int, input().split()))\n",
    "b = int(input())\n",
    "b_set = set(map(int, input().split()))\n",
    "print(len(n_set.symmetric_difference(b_set)))"
   ]
  },
  {
   "cell_type": "code",
   "execution_count": null,
   "id": "7fb697d0",
   "metadata": {},
   "outputs": [],
   "source": [
    "#set mutation\n",
    "n= int(input())\n",
    "n_set = set(map(int, input().split()))\n",
    "N = int(input())\n",
    "for _ in range(N):\n",
    "    operation = input().split()\n",
    "    new_set = set(map(int, input().split()))\n",
    "    eval('n_set.{}({})'.format(operation[0], new_set))\n",
    "print(sum(n_set))\n"
   ]
  },
  {
   "cell_type": "code",
   "execution_count": null,
   "id": "5e7848ad",
   "metadata": {},
   "outputs": [],
   "source": [
    "#captains room\n",
    "n = input()\n",
    "a = input().split()\n",
    "b = set(a)\n",
    "for ele in list(b):\n",
    "    a.remove(ele)\n",
    "Room = b.difference(set(a)).pop()\n",
    "print(Room)"
   ]
  },
  {
   "cell_type": "code",
   "execution_count": null,
   "id": "9874304c",
   "metadata": {},
   "outputs": [],
   "source": [
    "#subset\n",
    "for i in range(int(input())):\n",
    "    a = int(input())\n",
    "    set_a = set(map(int, input().split()))\n",
    "    b = int(input())\n",
    "    set_b = set(map(int, input().split()))\n",
    "    if len(set_a - set_b) == 0:\n",
    "        print(\"True\")\n",
    "    else:\n",
    "        print(\"False\")"
   ]
  },
  {
   "cell_type": "code",
   "execution_count": null,
   "id": "a026879e",
   "metadata": {},
   "outputs": [],
   "source": [
    "#superset\n",
    "A = set(input().split())\n",
    "COUNT = 0\n",
    "VALUE = 0\n",
    "for i in range(int(input())):\n",
    "    if A.issuperset(set(input().split())):\n",
    "        COUNT += 1\n",
    "    else:\n",
    "        VALUE += 1\n",
    "if VALUE != 0:\n",
    "    print('False')\n",
    "else:\n",
    "    print('True')\n"
   ]
  },
  {
   "cell_type": "code",
   "execution_count": null,
   "id": "1771663d",
   "metadata": {},
   "outputs": [],
   "source": []
  }
 ],
 "metadata": {
  "kernelspec": {
   "display_name": "Python 3 (ipykernel)",
   "language": "python",
   "name": "python3"
  },
  "language_info": {
   "codemirror_mode": {
    "name": "ipython",
    "version": 3
   },
   "file_extension": ".py",
   "mimetype": "text/x-python",
   "name": "python",
   "nbconvert_exporter": "python",
   "pygments_lexer": "ipython3",
   "version": "3.9.12"
  }
 },
 "nbformat": 4,
 "nbformat_minor": 5
}
