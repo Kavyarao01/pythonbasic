{
 "cells": [
  {
   "cell_type": "code",
   "execution_count": null,
   "id": "2146107c",
   "metadata": {},
   "outputs": [],
   "source": [
    "#validating floating numbers\n",
    "from re import match, compile\n",
    "pattern = compile('^[-+]?[0-9]*\\.[0-9]+$')\n",
    "for _ in range(int(input())):\n",
    "    print(bool(pattern.match(input())))"
   ]
  },
  {
   "cell_type": "code",
   "execution_count": null,
   "id": "c3f80389",
   "metadata": {},
   "outputs": [],
   "source": [
    "#RE-SPLIT\n",
    "regex_pattern = r\"[,.]\"\t# Do not delete 'r'.\n",
    "\n",
    "import re\n",
    "print(\"\\n\".join(re.split(regex_pattern, input())))"
   ]
  },
  {
   "cell_type": "code",
   "execution_count": null,
   "id": "e5c1bfec",
   "metadata": {},
   "outputs": [],
   "source": [
    "#GROUP,GROUPS,GROUPSDECT\n",
    "# Enter your code here. Read input from STDIN. Print output to STDOUT\n",
    "import re\n",
    "m = re.search(r'([a-zA-Z0-9])\\1', input().strip())\n",
    "print(m.group(1) if m else -1)"
   ]
  },
  {
   "cell_type": "code",
   "execution_count": null,
   "id": "fb91d4d6",
   "metadata": {},
   "outputs": [],
   "source": [
    "#Re-findall ,re-findeiter\n",
    "import re\n",
    "vowels = 'aeiou'\n",
    "consonants = 'qwrtypsdfghjklzxcvbnm'\n",
    "match = re.findall(r'(?<=[' + consonants + '])([' + vowels + ']{2,})(?=[' + consonants + '])', input(), flags=re.I)\n",
    "print('\\n'.join(match or ['-1']))"
   ]
  },
  {
   "cell_type": "code",
   "execution_count": null,
   "id": "35c61608",
   "metadata": {},
   "outputs": [],
   "source": [
    "#re-start , re-end\n",
    "import re\n",
    "\n",
    "string = input()\n",
    "substring = input()\n",
    "\n",
    "pattern = re.compile(substring)\n",
    "match = pattern.search(string)\n",
    "\n",
    "if not match: \n",
    "    print('(-1, -1)')\n",
    "    \n",
    "while match:\n",
    "    print('({0}, {1})'.format(match.start(), match.end() - 1))\n",
    "    match = pattern.search(string, match.start() + 1)"
   ]
  },
  {
   "cell_type": "code",
   "execution_count": null,
   "id": "55917c8a",
   "metadata": {},
   "outputs": [],
   "source": [
    "#Regex subtitution\n",
    "import re\n",
    "\n",
    "ii = int(input())\n",
    "\n",
    "for i in range(0,ii):\n",
    "   txt = input()\n",
    "   txt = re.sub(r\"\\ \\&\\&\\ \",\" and \",txt)\n",
    "   txt = re.sub(r\"\\ \\|\\|\\ \",\" or \",txt)\n",
    "   txt = re.sub(r\"\\ \\&\\&\\ \",\" and \",txt)\n",
    "   txt = re.sub(r\"\\ \\|\\|\\ \",\" or \",txt)\n",
    "   print(txt)"
   ]
  },
  {
   "cell_type": "code",
   "execution_count": null,
   "id": "35df9254",
   "metadata": {},
   "outputs": [],
   "source": [
    "#validating roman numerals\n",
    "regex_pattern = r\"M{0,3}(C[MD]|D?C{0,3})(X[CL]|L?X{0,3})(I[VX]|V?I{0,3})$\"\t# Do not delete 'r'.\n",
    "\n",
    "import re\n",
    "print(str(bool(re.match(regex_pattern, input()))))"
   ]
  },
  {
   "cell_type": "code",
   "execution_count": null,
   "id": "4ae1a1e8",
   "metadata": {},
   "outputs": [],
   "source": [
    "#validating phone numbers\n",
    "import re\n",
    "\n",
    "[print('YES' if re.match(r'[789]\\d{9}$', input()) else 'NO') for _ in range(int(input()))]"
   ]
  },
  {
   "cell_type": "code",
   "execution_count": null,
   "id": "61856be7",
   "metadata": {},
   "outputs": [],
   "source": [
    "#validating and parsing email \n",
    "import re\n",
    "pat = r'^<[A-Za-z](\\w|-|\\.|_)+@[A-Za-z]+\\.[A-Za-z]{1,3}>$'\n",
    "for _ in range(int(input())):\n",
    "    name, email = input().split(' ')\n",
    "    if re.match(pat, email):\n",
    "        print(name, email)"
   ]
  },
  {
   "cell_type": "code",
   "execution_count": null,
   "id": "802cc542",
   "metadata": {},
   "outputs": [],
   "source": [
    "#hex color code\n",
    "import re\n",
    "for _ in range(int(input())):\n",
    "    colors = re.findall(r':?.(#[0-9a-fA-F]{6}|#[0-9a-fA-F]{3})', input())\n",
    "    if colors:\n",
    "        print(*colors, sep='\\n')"
   ]
  },
  {
   "cell_type": "code",
   "execution_count": null,
   "id": "b54fff73",
   "metadata": {},
   "outputs": [],
   "source": [
    "#html parser 1\n",
    "from html.parser import HTMLParser\n",
    "class MyHTMLParser(HTMLParser):\n",
    "    def handle_starttag(self, tag, attrs):\n",
    "        print ('Start :', tag)\n",
    "        for ele in attrs:\n",
    "            print ('->', ele[0], '>', ele[1])\n",
    "    def handle_endtag(self, tag):\n",
    "        print ('End   :', tag)\n",
    "    def handle_startendtag(self, tag, attrs):\n",
    "        print ('Empty :', tag)\n",
    "        for ele in attrs:\n",
    "            print ('->', ele[0], '>', ele[1])\n",
    "parser = MyHTMLParser()\n",
    "for _ in range(int(input())):\n",
    "    parser.feed(input())"
   ]
  },
  {
   "cell_type": "code",
   "execution_count": null,
   "id": "f8e9f59b",
   "metadata": {},
   "outputs": [],
   "source": [
    "#html parser 2\n",
    "from html.parser import HTMLParser\n",
    "class MyHTMLParser(HTMLParser):\n",
    "    def handle_comment(self, comment):\n",
    "        if '\\n' in comment:\n",
    "            print('>>> Multi-line Comment')\n",
    "        else:\n",
    "            print('>>> Single-line Comment')\n",
    "        print(comment)\n",
    "    def handle_data(self, data):\n",
    "        if data == '\\n': return\n",
    "        print('>>> Data')\n",
    "        print(data)    \n",
    "html = \"\"       \n",
    "for i in range(int(input())):\n",
    "    html += input().rstrip()\n",
    "    html += '\\n'\n",
    "    \n",
    "parser = MyHTMLParser()\n",
    "parser.feed(html)\n",
    "parser.close()"
   ]
  },
  {
   "cell_type": "code",
   "execution_count": null,
   "id": "5d5126c7",
   "metadata": {},
   "outputs": [],
   "source": [
    "#detect htmk, attributes an attribute values\n",
    "from html.parser import HTMLParser\n",
    "class MyHTMLParser(HTMLParser):\n",
    "    def handle_starttag(self, tag, attrs):\n",
    "        print(tag)\n",
    "        [print('-> {} > {}'.format(*attr)) for attr in attrs]\n",
    "html = '\\n'.join([input() for _ in range(int(input()))])\n",
    "parser = MyHTMLParser()\n",
    "parser.feed(html)\n",
    "parser.close()"
   ]
  },
  {
   "cell_type": "code",
   "execution_count": null,
   "id": "9019eb6f",
   "metadata": {},
   "outputs": [],
   "source": [
    "#validating UID\n",
    "import re\n",
    "for _ in range(int(input())):\n",
    "    uid = ''.join(sorted(input()))\n",
    "    try:\n",
    "        assert re.search(r'[A-Z]{2}', uid)\n",
    "        assert re.search(r'\\d\\d\\d', uid)\n",
    "        assert not re.search(r'[^a-zA-Z0-9]', uid)\n",
    "        assert not re.search(r'(.)\\1', uid)\n",
    "        assert len(uid) == 10\n",
    "    except:\n",
    "        print('Invalid')\n",
    "    else:\n",
    "        print('Valid')"
   ]
  },
  {
   "cell_type": "code",
   "execution_count": null,
   "id": "1bae3406",
   "metadata": {},
   "outputs": [],
   "source": [
    "#Validating creditcard\n",
    "import re\n",
    "n = int(input())\n",
    "for t in range(n):\n",
    "    credit = input().strip()\n",
    "    credit_removed_hiphen = credit.replace('-','')\n",
    "    valid = True\n",
    "    length_16 = bool(re.match(r'^[4-6]\\d{15}$',credit))\n",
    "    length_19 = bool(re.match(r'^[4-6]\\d{3}-\\d{4}-\\d{4}-\\d{4}$',credit))    \n",
    "    consecutive = bool(re.findall(r'(?=(\\d)\\1\\1\\1)',credit_removed_hiphen))\n",
    "    if length_16 == True or length_19 == True:\n",
    "        if consecutive == True:\n",
    "            valid=False\n",
    "    else:\n",
    "        valid = False       \n",
    "    if valid == True:\n",
    "        print('Valid')\n",
    "    else:\n",
    "        print('Invalid')"
   ]
  },
  {
   "cell_type": "code",
   "execution_count": null,
   "id": "40ebff9d",
   "metadata": {},
   "outputs": [],
   "source": [
    "#validating postal code\n",
    "regex_integer_in_range = r\"^[1-9][\\d]{5}$\"\t# Do not delete 'r'.\n",
    "regex_alternating_repetitive_digit_pair = r\"(\\d)(?=\\d\\1)\"\t# Do not delete 'r'.\n",
    "\n",
    "\n",
    "import re\n",
    "P = input()\n",
    "\n",
    "print (bool(re.match(regex_integer_in_range, P)) \n",
    "and len(re.findall(regex_alternating_repetitive_digit_pair, P)) < 2)"
   ]
  },
  {
   "cell_type": "code",
   "execution_count": null,
   "id": "e33de547",
   "metadata": {},
   "outputs": [],
   "source": [
    "#matrix scripts\n",
    "import math\n",
    "import os\n",
    "import random\n",
    "import re\n",
    "import sys\n",
    "\n",
    "first_multiple_input = input().rstrip().split()\n",
    "\n",
    "n = int(first_multiple_input[0])\n",
    "m = int(first_multiple_input[1])\n",
    "\n",
    "matrix = []\n",
    "\n",
    "for _ in range(n):\n",
    "    matrix_item = input()\n",
    "    matrix.append(matrix_item)\n",
    "\n",
    "# start   \n",
    "matrix = list(zip(*matrix))\n",
    "\n",
    "sample = str()\n",
    "\n",
    "for words in matrix:\n",
    "    for char in words:\n",
    "        sample += char\n",
    "       \n",
    "print(re.sub(r'(?<=\\w)([^\\w\\d]+)(?=\\w)', ' ', sample)) "
   ]
  },
  {
   "cell_type": "code",
   "execution_count": null,
   "id": "e01796e6",
   "metadata": {},
   "outputs": [],
   "source": []
  },
  {
   "cell_type": "code",
   "execution_count": null,
   "id": "d43451f8",
   "metadata": {},
   "outputs": [],
   "source": []
  }
 ],
 "metadata": {
  "kernelspec": {
   "display_name": "Python 3 (ipykernel)",
   "language": "python",
   "name": "python3"
  },
  "language_info": {
   "codemirror_mode": {
    "name": "ipython",
    "version": 3
   },
   "file_extension": ".py",
   "mimetype": "text/x-python",
   "name": "python",
   "nbconvert_exporter": "python",
   "pygments_lexer": "ipython3",
   "version": "3.9.12"
  }
 },
 "nbformat": 4,
 "nbformat_minor": 5
}
