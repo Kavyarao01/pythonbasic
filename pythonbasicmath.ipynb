{
 "cells": [
  {
   "cell_type": "code",
   "execution_count": null,
   "id": "24e28283",
   "metadata": {},
   "outputs": [],
   "source": [
    "#polar coordinates.\n",
    "from math import atan2\n",
    "z = complex(input())\n",
    "x,y = z.real, z.imag\n",
    "r = (x**2+y**2)**.5\n",
    "phi = atan2(y,x)\n",
    "print (r)\n",
    "print (phi)"
   ]
  },
  {
   "cell_type": "code",
   "execution_count": 2,
   "id": "318c35dd",
   "metadata": {},
   "outputs": [
    {
     "name": "stdout",
     "output_type": "stream",
     "text": [
      "1\n",
      "1\n",
      "45°\n"
     ]
    }
   ],
   "source": [
    "#find angle\n",
    "import math\n",
    "ab=int(input())\n",
    "bc=int(input())\n",
    "ca=math.hypot(ab,bc)\n",
    "mc=ca/2\n",
    "bca=math.asin(1*ab/ca)\n",
    "bm=math.sqrt((bc**2+mc**2)-(2*bc*mc*math.cos(bca)))\n",
    "mbc=math.asin(math.sin(bca)*mc/bm)\n",
    "print(int(round(math.degrees(mbc),0)),'\\u00B0',sep='')"
   ]
  },
  {
   "cell_type": "code",
   "execution_count": 1,
   "id": "303e22e7",
   "metadata": {},
   "outputs": [
    {
     "name": "stdout",
     "output_type": "stream",
     "text": [
      "5\n",
      "1\n",
      "121\n",
      "12321\n",
      "1234321\n",
      "123454321\n"
     ]
    }
   ],
   "source": [
    "#triangle quest 2\n",
    "for i in range(1,int(input())+1): #More than 2 lines will result in 0 score. Do not leave a blank line also\n",
    "    print(((10**i)//9)**2)"
   ]
  },
  {
   "cell_type": "code",
   "execution_count": null,
   "id": "21b37fe7",
   "metadata": {},
   "outputs": [],
   "source": [
    "#Mod div mod \n",
    "a =int(input())\n",
    "b= int(input())\n",
    "print(a//b)\n",
    "print(a%b)\n",
    "print(divmod(a, b))"
   ]
  },
  {
   "cell_type": "code",
   "execution_count": null,
   "id": "f56a4928",
   "metadata": {},
   "outputs": [],
   "source": [
    "#pow mod power\n",
    "a =int(input())\n",
    "b= int(input())\n",
    "m=int(input())\n",
    "\n",
    "print(pow(a,b))\n",
    "print(pow(a,b,m))"
   ]
  },
  {
   "cell_type": "code",
   "execution_count": null,
   "id": "1e7fbd36",
   "metadata": {},
   "outputs": [],
   "source": [
    "#integers come in all size\n",
    "a =int(input())\n",
    "b= int(input())\n",
    "c=int(input())\n",
    "d =int(input())\n",
    "\n",
    "\n",
    "print(pow(a,b)+pow(c,d))"
   ]
  },
  {
   "cell_type": "code",
   "execution_count": 3,
   "id": "20b8bcec",
   "metadata": {},
   "outputs": [
    {
     "name": "stdout",
     "output_type": "stream",
     "text": [
      "5\n",
      "1\n",
      "22\n",
      "333\n",
      "4444\n"
     ]
    }
   ],
   "source": [
    "#triangle quest \n",
    "for i in range(1, int(input())):\n",
    "    print((10**(i)//9)*i)"
   ]
  },
  {
   "cell_type": "code",
   "execution_count": null,
   "id": "af385872",
   "metadata": {},
   "outputs": [],
   "source": []
  }
 ],
 "metadata": {
  "kernelspec": {
   "display_name": "Python 3 (ipykernel)",
   "language": "python",
   "name": "python3"
  },
  "language_info": {
   "codemirror_mode": {
    "name": "ipython",
    "version": 3
   },
   "file_extension": ".py",
   "mimetype": "text/x-python",
   "name": "python",
   "nbconvert_exporter": "python",
   "pygments_lexer": "ipython3",
   "version": "3.9.12"
  }
 },
 "nbformat": 4,
 "nbformat_minor": 5
}
